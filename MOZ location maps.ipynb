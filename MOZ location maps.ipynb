{
 "cells": [
  {
   "cell_type": "code",
   "execution_count": null,
   "id": "eca6f0f6",
   "metadata": {},
   "outputs": [],
   "source": [
    "import pandas as pd\n",
    "import requests\n",
    "\n",
    "from collections import OrderedDict\n",
    "\n",
    "!pip install chart_studio\n",
    "!pip install ipyleaflet"
   ]
  },
  {
   "cell_type": "code",
   "execution_count": null,
   "id": "d4b98f6e",
   "metadata": {},
   "outputs": [],
   "source": [
    "def get_category_count_from_sparql(sparql_endpoint, query):\n",
    "    \"\"\"Carries out the query on the endpoint and returns the value of the counts per category\n",
    "    :param - sparql_endpoint - the endpoint containing the RDF data to be queried\n",
    "    :param - query - the query to be carried out. This must select a count variable called ?count and \n",
    "    a variable ?category per value of which the count has been calculated\n",
    "    :returns - a dict of the categories with their counts\"\"\"\n",
    "    category_counts = OrderedDict()\n",
    "    response = requests.get(\n",
    "                sparql_endpoint,\n",
    "                params={\"query\": query},\n",
    "                headers = {\"Accept\": \"application/sparql-results+json\"})\n",
    "    for result in response.json()[\"results\"][\"bindings\"]:\n",
    "        category_counts[result[\"category\"][\"value\"]] = int(result[\"count\"][\"value\"])\n",
    "        \n",
    "    return category_counts"
   ]
  },
  {
   "cell_type": "markdown",
   "id": "4858e7dd",
   "metadata": {},
   "source": [
    "## Read the location coordinates"
   ]
  },
  {
   "cell_type": "code",
   "execution_count": null,
   "id": "9944a377",
   "metadata": {},
   "outputs": [],
   "source": [
    "locations_dataframe = pd.read_csv(\"https://raw.githubusercontent.com/mwigham/linked_data_notebooks/main/locations.csv\")"
   ]
  },
  {
   "cell_type": "markdown",
   "id": "791ed4cd",
   "metadata": {},
   "source": [
    "## Get the location counts"
   ]
  },
  {
   "cell_type": "code",
   "execution_count": null,
   "id": "b7720fda",
   "metadata": {},
   "outputs": [],
   "source": [
    "prefixes = \"\"\"PREFIX schema: <http://schema.org/>\n",
    "              PREFIX sdo: <https://schema.org/>\n",
    "              PREFIX skos: <http://www.w3.org/2004/02/skos/core#>\n",
    "              PREFIX rdfs: <http://www.w3.org/2000/01/rdf-schema#>\\n\"\"\"\n",
    "\n",
    "sparql_endpoint = \"https://cat.apis.beeldengeluid.nl/sparql\"\n",
    "moz_series_id = \"<http://data.beeldengeluid.nl/id/series/2101608030025711131>\""
   ]
  },
  {
   "cell_type": "code",
   "execution_count": null,
   "id": "454ec83a",
   "metadata": {},
   "outputs": [],
   "source": [
    "query = prefixes + f\"\"\"\n",
    "            SELECT ?count ?category\n",
    "            WHERE\n",
    "            {{\n",
    "                {{\n",
    "\n",
    "                    SELECT (COUNT(?category) as ?count) ?category\n",
    "                    WHERE \n",
    "                    {{\n",
    "                        ?program sdo:partOfSeason/sdo:partOfSeries {moz_series_id}.\n",
    "                        {{  \n",
    "                            ?program sdo:locationCreated/sdo:sameAs ?category .\n",
    "                        }}\n",
    "                        UNION                \n",
    "                        {{  \n",
    "                            ?program sdo:hasPart ?scene.\n",
    "                            ?scene sdo:locationCreated/sdo:sameAs ?category .\n",
    "                        }}\n",
    "                    }} GROUP BY ?category\n",
    "                }}\n",
    "            }} ORDER BY DESC(?count) \"\"\"\n",
    "\n",
    "distribution = get_category_count_from_sparql(sparql_endpoint, query)\n",
    "\n",
    "identifiers = []\n",
    "counts = []\n",
    "# get the wikidata coordinates for the locations\n",
    "for location in distribution:\n",
    "    identifiers.append(location)\n",
    "    counts.append(distribution[location])\n",
    "\n",
    "counts_dataframe = pd.DataFrame.from_dict({'Identifiers': identifiers, \n",
    "                                             'Counts': counts})"
   ]
  },
  {
   "cell_type": "code",
   "execution_count": null,
   "id": "43e37035",
   "metadata": {},
   "outputs": [],
   "source": [
    "# combine with the location information\n",
    "location_counts_dataframe = pd.merge(locations_dataframe, counts_dataframe, on=\"Identifiers\")\n",
    "print(location_counts_dataframe)"
   ]
  },
  {
   "cell_type": "markdown",
   "id": "2feb23c3",
   "metadata": {},
   "source": [
    "## Plot using Plotly"
   ]
  },
  {
   "cell_type": "code",
   "execution_count": null,
   "id": "5649f7ad",
   "metadata": {},
   "outputs": [],
   "source": [
    "import chart_studio\n",
    "import plotly\n",
    "from chart_studio import plotly as py\n",
    "import plotly.graph_objects as go\n",
    "\n",
    "coords = pd.concat([location_counts_dataframe['Location'],\n",
    "                    location_counts_dataframe['Latitude'], \n",
    "                    location_counts_dataframe['Longitude'], \n",
    "                    location_counts_dataframe['Counts']], axis=1)\n",
    "locations = []\n",
    "colors = ['rgb(239,243,255)','rgb(189,215,231)','rgb(107,174,214)','rgb(33,113,181)']\n",
    "\n",
    "\n",
    "locations.append(go.Scattergeo(\n",
    "    lon = coords['Longitude'],\n",
    "    lat = coords['Latitude'],\n",
    "    text = [f\"{coords['Location'][i]} {coords['Counts'][i]}\" for i in range(len(coords['Location']))],\n",
    "    marker = dict(\n",
    "        size = coords['Counts']/60,\n",
    "        opacity = .4,\n",
    "        line = dict(width = 0)\n",
    "    ),\n",
    ") )\n",
    "\n",
    "locations[0]['mode'] = 'markers'\n",
    "\n",
    "                \n",
    "layout = go.Layout(\n",
    "    title = 'Standardised concert recording locations in the MOZ collection',\n",
    "    geo = dict(\n",
    "        resolution = 110,\n",
    "        scope = 'europe',\n",
    "        showframe = False,\n",
    "        showcoastlines = True,\n",
    "        showland = True,\n",
    "        landcolor = \"rgb(229, 229, 229)\",\n",
    "        countrycolor = \"rgb(255, 255, 255)\" ,\n",
    "        coastlinecolor = \"rgb(255, 255, 255)\",\n",
    "        projection = dict(\n",
    "            type = 'mercator'\n",
    "        ),\n",
    "        lonaxis = dict( range= [ 3, 8] ),\n",
    "        lataxis = dict( range= [ 50,54 ] ),\n",
    "        \n",
    "    ),\n",
    "    legend = dict(\n",
    "           traceorder = 'reversed'\n",
    "    ),\n",
    "    width = 1000,\n",
    "    height = 800,\n",
    ")\n",
    "\n",
    "\n",
    "fig = go.Figure(layout=layout, data=locations)\n",
    "\n",
    "plotly.offline.iplot(fig, validate=False, filename='maritest')"
   ]
  },
  {
   "cell_type": "markdown",
   "id": "2b1fc656",
   "metadata": {},
   "source": [
    "## Plot using Flourish\n",
    "Export data and copy into a Flourish map\n",
    "Example map is available at https://public.flourish.studio/visualisation/14539726/"
   ]
  },
  {
   "cell_type": "code",
   "execution_count": null,
   "id": "b2abd490",
   "metadata": {},
   "outputs": [],
   "source": [
    "location_counts_dataframe.to_csv(\"location_counts.csv\")\n"
   ]
  },
  {
   "cell_type": "markdown",
   "id": "5f7bc4f0",
   "metadata": {},
   "source": [
    "## Plot using ipyleaflet"
   ]
  },
  {
   "cell_type": "code",
   "execution_count": null,
   "id": "1685e47d",
   "metadata": {},
   "outputs": [],
   "source": [
    "from ipywidgets import HTML\n",
    "from ipyleaflet import Map, basemaps, basemap_to_tiles, CircleMarker\n",
    "\n",
    "m = Map(\n",
    "    basemap=basemap_to_tiles(basemaps.OpenStreetMap.Mapnik),\n",
    "    center=(53, 4),\n",
    "    zoom=6, \n",
    ")\n",
    "\n",
    "\n",
    "for index, row in location_counts_dataframe.iterrows():\n",
    "    circle_marker = CircleMarker()\n",
    "    circle_marker.location = (row['Latitude'], row['Longitude'])\n",
    "    circle_marker.radius = int(row['Counts']/100)\n",
    "    circle_marker.color = \"red\"\n",
    "    circle_marker.fill_color = \"red\"\n",
    "\n",
    "    m.add_layer(circle_marker)\n",
    "    \n",
    "    # Popup with a given location on the map:\n",
    "    message = HTML()\n",
    "    message.value = f\"{row['Counts']} concerts\"\n",
    "    message.description = str(row['Location'])\n",
    "\n",
    "    # Popup associated to a layer\n",
    "    circle_marker.popup = message\n",
    "\n",
    "m"
   ]
  },
  {
   "cell_type": "code",
   "execution_count": null,
   "id": "a6618250",
   "metadata": {},
   "outputs": [],
   "source": []
  }
 ],
 "metadata": {
  "kernelspec": {
   "display_name": "linked_data_notebooks",
   "language": "python",
   "name": "linked_data_notebooks"
  },
  "language_info": {
   "codemirror_mode": {
    "name": "ipython",
    "version": 3
   },
   "file_extension": ".py",
   "mimetype": "text/x-python",
   "name": "python",
   "nbconvert_exporter": "python",
   "pygments_lexer": "ipython3",
   "version": "3.8.16"
  }
 },
 "nbformat": 4,
 "nbformat_minor": 5
}
