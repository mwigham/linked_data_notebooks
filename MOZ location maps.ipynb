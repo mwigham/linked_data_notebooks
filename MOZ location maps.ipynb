{
 "cells": [
  {
   "cell_type": "code",
   "execution_count": null,
   "id": "eca6f0f6",
   "metadata": {},
   "outputs": [],
   "source": [
    "import pandas as pd\n",
    "\n",
    "!pip install chart_studio\n",
    "\n",
    "!pip install ipyleaflet\n",
    "\n",
    "location_dataframe = pd.read_csv(\"https://raw.githubusercontent.com/mwigham/linked_data_notebooks/main/locations.csv\")"
   ]
  },
  {
   "cell_type": "markdown",
   "id": "56c603e7",
   "metadata": {},
   "source": [
    "## Plot using Plotly"
   ]
  },
  {
   "cell_type": "code",
   "execution_count": null,
   "id": "ca046731",
   "metadata": {},
   "outputs": [],
   "source": [
    "import chart_studio\n",
    "import plotly\n",
    "from chart_studio import plotly as py\n",
    "import plotly.graph_objects as go\n",
    "\n",
    "coords = pd.concat([location_dataframe['Location'],\n",
    "                    location_dataframe['Latitude'], \n",
    "                    location_dataframe['Longitude'], \n",
    "                    location_dataframe['Counts']], axis=1)\n",
    "locations = []\n",
    "colors = ['rgb(239,243,255)','rgb(189,215,231)','rgb(107,174,214)','rgb(33,113,181)']\n",
    "\n",
    "\n",
    "locations.append(go.Scattergeo(\n",
    "    lon = coords['Longitude'],\n",
    "    lat = coords['Latitude'],\n",
    "    text = [f\"{coords['Location'][i]} {coords['Counts'][i]}\" for i in range(len(coords['Location']))],\n",
    "    marker = dict(\n",
    "        size = coords['Counts']/60,\n",
    "        opacity = .4,\n",
    "        line = dict(width = 0)\n",
    "    ),\n",
    ") )\n",
    "\n",
    "locations[0]['mode'] = 'markers'\n",
    "\n",
    "                \n",
    "layout = go.Layout(\n",
    "    title = 'Standardised concert recording locations in the MOZ collection',\n",
    "    geo = dict(\n",
    "        resolution = 110,\n",
    "        scope = 'europe',\n",
    "        showframe = False,\n",
    "        showcoastlines = True,\n",
    "        showland = True,\n",
    "        landcolor = \"rgb(229, 229, 229)\",\n",
    "        countrycolor = \"rgb(255, 255, 255)\" ,\n",
    "        coastlinecolor = \"rgb(255, 255, 255)\",\n",
    "        projection = dict(\n",
    "            type = 'mercator'\n",
    "        ),\n",
    "        lonaxis = dict( range= [ 3, 8] ),\n",
    "        lataxis = dict( range= [ 50,54 ] ),\n",
    "        \n",
    "    ),\n",
    "    legend = dict(\n",
    "           traceorder = 'reversed'\n",
    "    ),\n",
    "    width = 1000,\n",
    "    height = 800,\n",
    ")\n",
    "\n",
    "\n",
    "fig = go.Figure(layout=layout, data=locations)\n",
    "\n",
    "plotly.offline.iplot(fig, validate=False, filename='maritest')"
   ]
  },
  {
   "cell_type": "markdown",
   "id": "a5462a83",
   "metadata": {},
   "source": [
    "## Plot using Flourish\n",
    "Export data and copy into a Flourish map\n",
    "Example map is available at https://public.flourish.studio/visualisation/14539726/"
   ]
  },
  {
   "cell_type": "code",
   "execution_count": null,
   "id": "ff890440",
   "metadata": {},
   "outputs": [],
   "source": [
    "location_dataframe.to_csv(\"locations.csv\")\n"
   ]
  },
  {
   "cell_type": "markdown",
   "id": "a727d100",
   "metadata": {},
   "source": [
    "## Plot using ipyleaflet"
   ]
  },
  {
   "cell_type": "code",
   "execution_count": null,
   "id": "ed0bfcf1",
   "metadata": {},
   "outputs": [],
   "source": [
    "from ipywidgets import HTML\n",
    "from ipyleaflet import Map, basemaps, basemap_to_tiles, CircleMarker\n",
    "\n",
    "m = Map(\n",
    "    basemap=basemap_to_tiles(basemaps.OpenStreetMap.Mapnik),\n",
    "    center=(53, 4),\n",
    "    zoom=6, \n",
    ")\n",
    "\n",
    "\n",
    "for index, row in location_dataframe.iterrows():\n",
    "    circle_marker = CircleMarker()\n",
    "    circle_marker.location = (row['Latitude'], row['Longitude'])\n",
    "    circle_marker.radius = int(row['Counts']/100)\n",
    "    circle_marker.color = \"red\"\n",
    "    circle_marker.fill_color = \"red\"\n",
    "\n",
    "    m.add_layer(circle_marker)\n",
    "    \n",
    "    # Popup with a given location on the map:\n",
    "    message = HTML()\n",
    "    message.value = f\"{row['Counts']} concerts\"\n",
    "    message.description = str(row['Location'])\n",
    "\n",
    "    # Popup associated to a layer\n",
    "    circle_marker.popup = message\n",
    "\n",
    "m"
   ]
  },
  {
   "cell_type": "code",
   "execution_count": null,
   "id": "6701eeef",
   "metadata": {},
   "outputs": [],
   "source": []
  }
 ],
 "metadata": {
  "kernelspec": {
   "display_name": "linked_data_notebooks",
   "language": "python",
   "name": "linked_data_notebooks"
  },
  "language_info": {
   "codemirror_mode": {
    "name": "ipython",
    "version": 3
   },
   "file_extension": ".py",
   "mimetype": "text/x-python",
   "name": "python",
   "nbconvert_exporter": "python",
   "pygments_lexer": "ipython3",
   "version": "3.8.16"
  }
 },
 "nbformat": 4,
 "nbformat_minor": 5
}
